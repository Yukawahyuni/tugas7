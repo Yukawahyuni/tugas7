{
 "cells": [
  {
   "cell_type": "markdown",
   "id": "94e51052",
   "metadata": {},
   "source": [
    "# Tugas Sesi 7"
   ]
  },
  {
   "cell_type": "markdown",
   "id": "53bd9a04",
   "metadata": {},
   "source": [
    "1. Buatlah programan untuk membalik sebuah kalimat, misal:\n",
    "\n",
    "   input : \"LUPA-LUPA INGAT\"\n",
    "\n",
    "   output : \"TAGNI APUL-APUL\"\n"
   ]
  },
  {
   "cell_type": "code",
   "execution_count": 1,
   "id": "96ed55f8",
   "metadata": {},
   "outputs": [
    {
     "name": "stdout",
     "output_type": "stream",
     "text": [
      "masukan kalimat :LUPA-LUPA INGAT\n",
      "15\n",
      "kalimat terbaliknya adalah TAGNI APUL-APUL\n"
     ]
    }
   ],
   "source": [
    "#Write your code\n",
    "kalimat = input(\"masukan kalimat :\")\n",
    "jumlah_huruf = len(kalimat)\n",
    "kalimat_terbalik = \"\"\n",
    "print(jumlah_huruf)\n",
    "\n",
    "for i in range(jumlah_huruf):\n",
    "     kalimat_terbalik += kalimat[jumlah_huruf-i-1]\n",
    "print(f\"kalimat terbaliknya adalah {kalimat_terbalik}\")"
   ]
  },
  {
   "cell_type": "markdown",
   "id": "8efb5bc2",
   "metadata": {},
   "source": [
    "2. buatlah program untuk menghitung jumlah masing-masing huruf vokal, dengan output seperti ini:\n",
    "\n",
    " kalimat : \"Universitas Nusa Putera\"\n",
    "\n",
    " output :\n",
    "    <ul>\n",
    " <li>Jumlah huruf A = 3\n",
    " <li>Jumlah huruf I = 2\n",
    " <li>Jumlah huruf U = 3\n",
    " <li>Jumlah huruf E = 2\n",
    " <li>Jumlah huruf O = 0\n",
    "\n",
    "    \n",
    "     Total jumlah huruf vokal = 10"
   ]
  },
  {
   "cell_type": "code",
   "execution_count": 2,
   "id": "a95e9c30",
   "metadata": {},
   "outputs": [
    {
     "name": "stdout",
     "output_type": "stream",
     "text": [
      "Jumlah huruf A : 3\n",
      "Jumlah huruf I : 2\n",
      "Jumlah huruf U : 3\n",
      "Jumlah huruf E : 2\n",
      "Jumlah huruf O : 0\n",
      "\n",
      "Total jumlah huruf vokal : 10 \n"
     ]
    }
   ],
   "source": [
    "#Write your code\n",
    "\n",
    "kalimat = \"Universitas Nusa Putera\"\n",
    "a = 0\n",
    "i = 0\n",
    "u = 0\n",
    "e = 0\n",
    "o = 0\n",
    "\n",
    "\n",
    "for k in kalimat:\n",
    "    if k ==\"a\" or k ==\"A\":\n",
    "        a += 1\n",
    "    elif k ==\"i\" or k ==\"I\":\n",
    "        i += 1\n",
    "    elif k ==\"u\" or k ==\"U\":\n",
    "        u += 1\n",
    "    elif k ==\"e\" or k ==\"E\":\n",
    "        e += 1\n",
    "    elif k ==\"o\" or k ==\"O\":\n",
    "        o += 1  \n",
    "total = a + i + u + e + o\n",
    "\n",
    "print(f\"Jumlah huruf A : {a}\")\n",
    "print(f\"Jumlah huruf I : {i}\")\n",
    "print(f\"Jumlah huruf U : {u}\")\n",
    "print(f\"Jumlah huruf E : {e}\")\n",
    "print(f\"Jumlah huruf O : {o}\")\n",
    "print(f\"\\nTotal jumlah huruf vokal : {total} \")"
   ]
  }
 ],
 "metadata": {
  "kernelspec": {
   "display_name": "Python 3 (ipykernel)",
   "language": "python",
   "name": "python3"
  },
  "language_info": {
   "codemirror_mode": {
    "name": "ipython",
    "version": 3
   },
   "file_extension": ".py",
   "mimetype": "text/x-python",
   "name": "python",
   "nbconvert_exporter": "python",
   "pygments_lexer": "ipython3",
   "version": "3.9.12"
  }
 },
 "nbformat": 4,
 "nbformat_minor": 5
}
